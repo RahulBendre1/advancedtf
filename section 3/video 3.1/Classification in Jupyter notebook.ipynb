{
 "cells": [
  {
   "cell_type": "code",
   "execution_count": 1,
   "metadata": {},
   "outputs": [],
   "source": [
    "from __future__ import absolute_import\n",
    "from __future__ import division\n",
    "from __future__ import print_function\n",
    "\n",
    "import os\n",
    "from six.moves.urllib.request import urlopen\n",
    "\n",
    "import tensorflow as tf\n",
    "import numpy as np\n",
    "\n",
    "IRIS_TRAINING = \"iris_training.csv\"\n",
    "IRIS_TRAINING_URL = \"http://download.tensorflow.org/data/iris_training.csv\"\n",
    "\n",
    "IRIS_TEST = \"iris_test.csv\"\n",
    "IRIS_TEST_URL = \"http://download.tensorflow.org/data/iris_test.csv\"\n"
   ]
  },
  {
   "cell_type": "code",
   "execution_count": 2,
   "metadata": {},
   "outputs": [],
   "source": [
    "if not os.path.exists(IRIS_TRAINING):\n",
    "  raw = urlopen(IRIS_TRAINING_URL).read()\n",
    "  with open(IRIS_TRAINING,'wb') as f:\n",
    "    f.write(raw)\n",
    "\n",
    "if not os.path.exists(IRIS_TEST):\n",
    "  raw = urlopen(IRIS_TEST_URL).read()\n",
    "  with open(IRIS_TEST,'wb') as f:\n",
    "    f.write(raw)"
   ]
  },
  {
   "cell_type": "code",
   "execution_count": 3,
   "metadata": {},
   "outputs": [],
   "source": [
    "# Load datasets.\n",
    "training_set = tf.contrib.learn.datasets.base.load_csv_with_header(\n",
    "    filename=IRIS_TRAINING,\n",
    "    target_dtype=np.int,\n",
    "    features_dtype=np.float32)\n",
    "test_set = tf.contrib.learn.datasets.base.load_csv_with_header(\n",
    "    filename=IRIS_TEST,\n",
    "    target_dtype=np.int,\n",
    "    features_dtype=np.float32)"
   ]
  },
  {
   "cell_type": "code",
   "execution_count": 4,
   "metadata": {},
   "outputs": [
    {
     "name": "stdout",
     "output_type": "stream",
     "text": [
      "INFO:tensorflow:Using default config.\n",
      "INFO:tensorflow:Using config: {'_save_checkpoints_secs': 600, '_service': None, '_task_type': 'worker', '_session_config': None, '_cluster_spec': <tensorflow.python.training.server_lib.ClusterSpec object at 0x7fbe337e4e10>, '_task_id': 0, '_log_step_count_steps': 100, '_save_checkpoints_steps': None, '_num_ps_replicas': 0, '_tf_random_seed': None, '_master': '', '_keep_checkpoint_max': 5, '_num_worker_replicas': 1, '_model_dir': '/tmp/iris_model', '_save_summary_steps': 100, '_is_chief': True, '_keep_checkpoint_every_n_hours': 10000}\n"
     ]
    }
   ],
   "source": [
    "# Specify that all features have real-value data\n",
    "feature_columns = [tf.feature_column.numeric_column(\"x\", shape=[4])]\n",
    "\n",
    "# Build 3 layer DNN with 10, 20, 10 units respectively.\n",
    "classifier = tf.estimator.DNNClassifier(feature_columns=feature_columns,\n",
    "                                        hidden_units=[10, 20, 10],\n",
    "                                        n_classes=3,\n",
    "                                        model_dir=\"/tmp/iris_model\")"
   ]
  },
  {
   "cell_type": "code",
   "execution_count": 5,
   "metadata": {},
   "outputs": [],
   "source": [
    "# Define the training inputs\n",
    "train_input_fn = tf.estimator.inputs.numpy_input_fn(\n",
    "    x={\"x\": np.array(training_set.data)},\n",
    "    y=np.array(training_set.target),\n",
    "    num_epochs=None,\n",
    "    shuffle=True)"
   ]
  },
  {
   "cell_type": "code",
   "execution_count": 9,
   "metadata": {},
   "outputs": [
    {
     "name": "stdout",
     "output_type": "stream",
     "text": [
      "INFO:tensorflow:Create CheckpointSaverHook.\n",
      "INFO:tensorflow:Restoring parameters from /tmp/iris_model/model.ckpt-2000\n",
      "INFO:tensorflow:Saving checkpoints for 2001 into /tmp/iris_model/model.ckpt.\n",
      "INFO:tensorflow:loss = 4.75227, step = 2001\n",
      "INFO:tensorflow:global_step/sec: 660.108\n",
      "INFO:tensorflow:loss = 7.1123, step = 2101 (0.155 sec)\n",
      "INFO:tensorflow:global_step/sec: 686.144\n",
      "INFO:tensorflow:loss = 5.7895, step = 2201 (0.146 sec)\n",
      "INFO:tensorflow:global_step/sec: 675.67\n",
      "INFO:tensorflow:loss = 5.64837, step = 2301 (0.146 sec)\n",
      "INFO:tensorflow:global_step/sec: 854.758\n",
      "INFO:tensorflow:loss = 6.56169, step = 2401 (0.117 sec)\n",
      "INFO:tensorflow:global_step/sec: 773.286\n",
      "INFO:tensorflow:loss = 6.46712, step = 2501 (0.131 sec)\n",
      "INFO:tensorflow:global_step/sec: 722.848\n",
      "INFO:tensorflow:loss = 3.65621, step = 2601 (0.138 sec)\n",
      "INFO:tensorflow:global_step/sec: 673.045\n",
      "INFO:tensorflow:loss = 4.57327, step = 2701 (0.149 sec)\n",
      "INFO:tensorflow:global_step/sec: 819.136\n",
      "INFO:tensorflow:loss = 7.70042, step = 2801 (0.121 sec)\n",
      "INFO:tensorflow:global_step/sec: 749.063\n",
      "INFO:tensorflow:loss = 4.70258, step = 2901 (0.135 sec)\n",
      "INFO:tensorflow:global_step/sec: 694.203\n",
      "INFO:tensorflow:loss = 5.71437, step = 3001 (0.144 sec)\n",
      "INFO:tensorflow:global_step/sec: 687.316\n",
      "INFO:tensorflow:loss = 4.56792, step = 3101 (0.146 sec)\n",
      "INFO:tensorflow:global_step/sec: 684.578\n",
      "INFO:tensorflow:loss = 4.37594, step = 3201 (0.144 sec)\n",
      "INFO:tensorflow:global_step/sec: 694.032\n",
      "INFO:tensorflow:loss = 4.54771, step = 3301 (0.144 sec)\n",
      "INFO:tensorflow:global_step/sec: 680.827\n",
      "INFO:tensorflow:loss = 2.46871, step = 3401 (0.149 sec)\n",
      "INFO:tensorflow:global_step/sec: 683.736\n",
      "INFO:tensorflow:loss = 4.91096, step = 3501 (0.146 sec)\n",
      "INFO:tensorflow:global_step/sec: 680.122\n",
      "INFO:tensorflow:loss = 3.04192, step = 3601 (0.146 sec)\n",
      "INFO:tensorflow:global_step/sec: 689.975\n",
      "INFO:tensorflow:loss = 6.59432, step = 3701 (0.146 sec)\n",
      "INFO:tensorflow:global_step/sec: 676.541\n",
      "INFO:tensorflow:loss = 7.51197, step = 3801 (0.146 sec)\n",
      "INFO:tensorflow:global_step/sec: 698.143\n",
      "INFO:tensorflow:loss = 8.52792, step = 3901 (0.145 sec)\n",
      "INFO:tensorflow:Saving checkpoints for 4000 into /tmp/iris_model/model.ckpt.\n",
      "INFO:tensorflow:Loss for final step: 7.19127.\n"
     ]
    },
    {
     "data": {
      "text/plain": [
       "<tensorflow.python.estimator.canned.dnn.DNNClassifier at 0x7fbe34d70908>"
      ]
     },
     "execution_count": 9,
     "metadata": {},
     "output_type": "execute_result"
    }
   ],
   "source": [
    "# Train model.\n",
    "classifier.train(input_fn=train_input_fn, steps=2000)"
   ]
  },
  {
   "cell_type": "code",
   "execution_count": 10,
   "metadata": {},
   "outputs": [],
   "source": [
    "# Define the test inputs\n",
    "test_input_fn = tf.estimator.inputs.numpy_input_fn(\n",
    "    x={\"x\": np.array(test_set.data)},\n",
    "    y=np.array(test_set.target),\n",
    "    num_epochs=1,\n",
    "    shuffle=False)"
   ]
  },
  {
   "cell_type": "code",
   "execution_count": 11,
   "metadata": {},
   "outputs": [
    {
     "name": "stdout",
     "output_type": "stream",
     "text": [
      "INFO:tensorflow:Starting evaluation at 2018-01-06-05:32:47\n",
      "INFO:tensorflow:Restoring parameters from /tmp/iris_model/model.ckpt-4000\n",
      "INFO:tensorflow:Finished evaluation at 2018-01-06-05:32:48\n",
      "INFO:tensorflow:Saving dict for global step 4000: accuracy = 0.966667, average_loss = 0.0777572, global_step = 4000, loss = 2.33272\n",
      "\n",
      "Test Accuracy: 0.966667\n",
      "\n"
     ]
    }
   ],
   "source": [
    "# Evaluate accuracy.\n",
    "accuracy_score = classifier.evaluate(input_fn=test_input_fn)[\"accuracy\"]\n",
    "\n",
    "print(\"\\nTest Accuracy: {0:f}\\n\".format(accuracy_score))\n"
   ]
  },
  {
   "cell_type": "code",
   "execution_count": 12,
   "metadata": {},
   "outputs": [
    {
     "name": "stdout",
     "output_type": "stream",
     "text": [
      "INFO:tensorflow:Restoring parameters from /tmp/iris_model/model.ckpt-4000\n",
      "New Samples, Class Predictions:    [array([b'1'], dtype=object), array([b'2'], dtype=object)]\n",
      "\n"
     ]
    }
   ],
   "source": [
    "# Classify two new flower samples.\n",
    "new_samples = np.array(\n",
    "    [[6.4, 3.2, 4.5, 1.5],\n",
    "     [5.8, 3.1, 5.0, 1.7]], dtype=np.float32)\n",
    "predict_input_fn = tf.estimator.inputs.numpy_input_fn(\n",
    "    x={\"x\": new_samples},\n",
    "    num_epochs=1,\n",
    "    shuffle=False)\n",
    "\n",
    "predictions = list(classifier.predict(input_fn=predict_input_fn))\n",
    "predicted_classes = [p[\"classes\"] for p in predictions]\n",
    "\n",
    "print(\n",
    "    \"New Samples, Class Predictions:    {}\\n\"\n",
    "    .format(predicted_classes))\n"
   ]
  },
  {
   "cell_type": "code",
   "execution_count": null,
   "metadata": {},
   "outputs": [],
   "source": []
  }
 ],
 "metadata": {
  "kernelspec": {
   "display_name": "Python 3",
   "language": "python",
   "name": "python3"
  },
  "language_info": {
   "codemirror_mode": {
    "name": "ipython",
    "version": 3
   },
   "file_extension": ".py",
   "mimetype": "text/x-python",
   "name": "python",
   "nbconvert_exporter": "python",
   "pygments_lexer": "ipython3",
   "version": "3.5.2"
  }
 },
 "nbformat": 4,
 "nbformat_minor": 2
}
